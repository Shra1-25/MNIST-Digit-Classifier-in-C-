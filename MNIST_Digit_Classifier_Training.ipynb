{
  "nbformat": 4,
  "nbformat_minor": 0,
  "metadata": {
    "colab": {
      "name": "tf_1.6.0_MNIST.ipynb",
      "provenance": [],
      "collapsed_sections": []
    },
    "kernelspec": {
      "name": "python3",
      "display_name": "Python 3"
    },
    "accelerator": "GPU"
  },
  "cells": [
    {
      "cell_type": "code",
      "metadata": {
        "id": "E04IA1kotPV3",
        "colab_type": "code",
        "colab": {
          "base_uri": "https://localhost:8080/",
          "height": 34
        },
        "outputId": "eef421f9-5ecb-4d6a-deef-8911eee7112b"
      },
      "source": [
        "!pip install tensorflow==1.6.0 --no-deps"
      ],
      "execution_count": 7,
      "outputs": [
        {
          "output_type": "stream",
          "text": [
            "Requirement already satisfied: tensorflow==1.6.0 in /usr/local/lib/python3.6/dist-packages (1.6.0)\n"
          ],
          "name": "stdout"
        }
      ]
    },
    {
      "cell_type": "code",
      "metadata": {
        "id": "-AAJUHYRx91v",
        "colab_type": "code",
        "colab": {
          "base_uri": "https://localhost:8080/",
          "height": 156
        },
        "outputId": "faddc93f-c7bd-4455-f576-5ff942aa1a27"
      },
      "source": [
        "!pip install keras==2.1.5 --no-deps"
      ],
      "execution_count": 8,
      "outputs": [
        {
          "output_type": "stream",
          "text": [
            "Collecting keras==2.1.5\n",
            "  Using cached https://files.pythonhosted.org/packages/ba/65/e4aff762b8696ec0626a6654b1e73b396fcc8b7cc6b98d78a1bc53b85b48/Keras-2.1.5-py2.py3-none-any.whl\n",
            "Installing collected packages: keras\n",
            "  Found existing installation: Keras 2.3.1\n",
            "    Uninstalling Keras-2.3.1:\n",
            "      Successfully uninstalled Keras-2.3.1\n",
            "Successfully installed keras-2.1.5\n"
          ],
          "name": "stdout"
        }
      ]
    },
    {
      "cell_type": "code",
      "metadata": {
        "id": "4as0KezFypi6",
        "colab_type": "code",
        "colab": {
          "base_uri": "https://localhost:8080/",
          "height": 377
        },
        "outputId": "e7dd7423-4975-49ae-81fb-73abbc19c126"
      },
      "source": [
        "!pip install keras --upgrade"
      ],
      "execution_count": 12,
      "outputs": [
        {
          "output_type": "stream",
          "text": [
            "Collecting keras\n",
            "\u001b[?25l  Downloading https://files.pythonhosted.org/packages/ad/fd/6bfe87920d7f4fd475acd28500a42482b6b84479832bdc0fe9e589a60ceb/Keras-2.3.1-py2.py3-none-any.whl (377kB)\n",
            "\r\u001b[K     |▉                               | 10kB 22.0MB/s eta 0:00:01\r\u001b[K     |█▊                              | 20kB 6.3MB/s eta 0:00:01\r\u001b[K     |██▋                             | 30kB 7.6MB/s eta 0:00:01\r\u001b[K     |███▌                            | 40kB 8.4MB/s eta 0:00:01\r\u001b[K     |████▍                           | 51kB 7.1MB/s eta 0:00:01\r\u001b[K     |█████▏                          | 61kB 8.1MB/s eta 0:00:01\r\u001b[K     |██████                          | 71kB 8.4MB/s eta 0:00:01\r\u001b[K     |███████                         | 81kB 8.7MB/s eta 0:00:01\r\u001b[K     |███████▉                        | 92kB 9.2MB/s eta 0:00:01\r\u001b[K     |████████▊                       | 102kB 9.4MB/s eta 0:00:01\r\u001b[K     |█████████▌                      | 112kB 9.4MB/s eta 0:00:01\r\u001b[K     |██████████▍                     | 122kB 9.4MB/s eta 0:00:01\r\u001b[K     |███████████▎                    | 133kB 9.4MB/s eta 0:00:01\r\u001b[K     |████████████▏                   | 143kB 9.4MB/s eta 0:00:01\r\u001b[K     |█████████████                   | 153kB 9.4MB/s eta 0:00:01\r\u001b[K     |█████████████▉                  | 163kB 9.4MB/s eta 0:00:01\r\u001b[K     |██████████████▊                 | 174kB 9.4MB/s eta 0:00:01\r\u001b[K     |███████████████▋                | 184kB 9.4MB/s eta 0:00:01\r\u001b[K     |████████████████▌               | 194kB 9.4MB/s eta 0:00:01\r\u001b[K     |█████████████████▍              | 204kB 9.4MB/s eta 0:00:01\r\u001b[K     |██████████████████▏             | 215kB 9.4MB/s eta 0:00:01\r\u001b[K     |███████████████████             | 225kB 9.4MB/s eta 0:00:01\r\u001b[K     |████████████████████            | 235kB 9.4MB/s eta 0:00:01\r\u001b[K     |████████████████████▉           | 245kB 9.4MB/s eta 0:00:01\r\u001b[K     |█████████████████████▊          | 256kB 9.4MB/s eta 0:00:01\r\u001b[K     |██████████████████████▌         | 266kB 9.4MB/s eta 0:00:01\r\u001b[K     |███████████████████████▍        | 276kB 9.4MB/s eta 0:00:01\r\u001b[K     |████████████████████████▎       | 286kB 9.4MB/s eta 0:00:01\r\u001b[K     |█████████████████████████▏      | 296kB 9.4MB/s eta 0:00:01\r\u001b[K     |██████████████████████████      | 307kB 9.4MB/s eta 0:00:01\r\u001b[K     |██████████████████████████▉     | 317kB 9.4MB/s eta 0:00:01\r\u001b[K     |███████████████████████████▊    | 327kB 9.4MB/s eta 0:00:01\r\u001b[K     |████████████████████████████▋   | 337kB 9.4MB/s eta 0:00:01\r\u001b[K     |█████████████████████████████▌  | 348kB 9.4MB/s eta 0:00:01\r\u001b[K     |██████████████████████████████▍ | 358kB 9.4MB/s eta 0:00:01\r\u001b[K     |███████████████████████████████▏| 368kB 9.4MB/s eta 0:00:01\r\u001b[K     |████████████████████████████████| 378kB 9.4MB/s \n",
            "\u001b[?25hRequirement already satisfied, skipping upgrade: six>=1.9.0 in /usr/local/lib/python3.6/dist-packages (from keras) (1.12.0)\n",
            "Requirement already satisfied, skipping upgrade: keras-applications>=1.0.6 in /usr/local/lib/python3.6/dist-packages (from keras) (1.0.8)\n",
            "Requirement already satisfied, skipping upgrade: h5py in /usr/local/lib/python3.6/dist-packages (from keras) (2.10.0)\n",
            "Requirement already satisfied, skipping upgrade: scipy>=0.14 in /usr/local/lib/python3.6/dist-packages (from keras) (1.4.1)\n",
            "Requirement already satisfied, skipping upgrade: numpy>=1.9.1 in /usr/local/lib/python3.6/dist-packages (from keras) (1.18.5)\n",
            "Requirement already satisfied, skipping upgrade: keras-preprocessing>=1.0.5 in /usr/local/lib/python3.6/dist-packages (from keras) (1.1.2)\n",
            "Requirement already satisfied, skipping upgrade: pyyaml in /usr/local/lib/python3.6/dist-packages (from keras) (3.13)\n",
            "Installing collected packages: keras\n",
            "  Found existing installation: Keras 2.1.5\n",
            "    Uninstalling Keras-2.1.5:\n",
            "      Successfully uninstalled Keras-2.1.5\n",
            "Successfully installed keras-2.3.1\n"
          ],
          "name": "stdout"
        },
        {
          "output_type": "display_data",
          "data": {
            "application/vnd.colab-display-data+json": {
              "pip_warning": {
                "packages": [
                  "keras"
                ]
              }
            }
          },
          "metadata": {
            "tags": []
          }
        }
      ]
    },
    {
      "cell_type": "code",
      "metadata": {
        "id": "SmG1AICGssPJ",
        "colab_type": "code",
        "colab": {
          "base_uri": "https://localhost:8080/",
          "height": 34
        },
        "outputId": "562b0cc4-90d0-4f4a-b4ae-cd4d82865241"
      },
      "source": [
        "cd /content/drive/My Drive/google_colab_gpu/GSOC 2020/Trials"
      ],
      "execution_count": 1,
      "outputs": [
        {
          "output_type": "stream",
          "text": [
            "/content/drive/My Drive/google_colab_gpu/GSOC 2020/Trials\n"
          ],
          "name": "stdout"
        }
      ]
    },
    {
      "cell_type": "code",
      "metadata": {
        "id": "2w9xJQn1tKpA",
        "colab_type": "code",
        "colab": {
          "base_uri": "https://localhost:8080/",
          "height": 258
        },
        "outputId": "a5a7dc0f-b408-49ad-f3a8-c42c73e608ad"
      },
      "source": [
        "import numpy as np\n",
        "import tensorflow as tf\n",
        "import keras"
      ],
      "execution_count": 2,
      "outputs": [
        {
          "output_type": "stream",
          "text": [
            "/usr/local/lib/python3.6/dist-packages/tensorflow/python/framework/dtypes.py:517: FutureWarning: Passing (type, 1) or '1type' as a synonym of type is deprecated; in a future version of numpy, it will be understood as (type, (1,)) / '(1,)type'.\n",
            "  _np_qint8 = np.dtype([(\"qint8\", np.int8, 1)])\n",
            "/usr/local/lib/python3.6/dist-packages/tensorflow/python/framework/dtypes.py:518: FutureWarning: Passing (type, 1) or '1type' as a synonym of type is deprecated; in a future version of numpy, it will be understood as (type, (1,)) / '(1,)type'.\n",
            "  _np_quint8 = np.dtype([(\"quint8\", np.uint8, 1)])\n",
            "/usr/local/lib/python3.6/dist-packages/tensorflow/python/framework/dtypes.py:519: FutureWarning: Passing (type, 1) or '1type' as a synonym of type is deprecated; in a future version of numpy, it will be understood as (type, (1,)) / '(1,)type'.\n",
            "  _np_qint16 = np.dtype([(\"qint16\", np.int16, 1)])\n",
            "/usr/local/lib/python3.6/dist-packages/tensorflow/python/framework/dtypes.py:520: FutureWarning: Passing (type, 1) or '1type' as a synonym of type is deprecated; in a future version of numpy, it will be understood as (type, (1,)) / '(1,)type'.\n",
            "  _np_quint16 = np.dtype([(\"quint16\", np.uint16, 1)])\n",
            "/usr/local/lib/python3.6/dist-packages/tensorflow/python/framework/dtypes.py:521: FutureWarning: Passing (type, 1) or '1type' as a synonym of type is deprecated; in a future version of numpy, it will be understood as (type, (1,)) / '(1,)type'.\n",
            "  _np_qint32 = np.dtype([(\"qint32\", np.int32, 1)])\n",
            "/usr/local/lib/python3.6/dist-packages/tensorflow/python/framework/dtypes.py:526: FutureWarning: Passing (type, 1) or '1type' as a synonym of type is deprecated; in a future version of numpy, it will be understood as (type, (1,)) / '(1,)type'.\n",
            "  np_resource = np.dtype([(\"resource\", np.ubyte, 1)])\n",
            "Using TensorFlow backend.\n"
          ],
          "name": "stderr"
        }
      ]
    },
    {
      "cell_type": "code",
      "metadata": {
        "id": "SbqVN8D8xbXS",
        "colab_type": "code",
        "colab": {
          "base_uri": "https://localhost:8080/",
          "height": 51
        },
        "outputId": "8b557953-afb2-4c1a-824d-d074f292b07f"
      },
      "source": [
        "print(tf.__version__)\n",
        "print(keras.__version__)"
      ],
      "execution_count": 3,
      "outputs": [
        {
          "output_type": "stream",
          "text": [
            "1.6.0\n",
            "2.1.5\n"
          ],
          "name": "stdout"
        }
      ]
    },
    {
      "cell_type": "code",
      "metadata": {
        "id": "TvsbRi3R2IT0",
        "colab_type": "code",
        "colab": {}
      },
      "source": [
        "from keras.datasets import mnist\n",
        "#load mnist dataset\n",
        "(X_train, y_train), (X_test, y_test) = mnist.load_data() #everytime loading data won't be so easy :)"
      ],
      "execution_count": 0,
      "outputs": []
    },
    {
      "cell_type": "code",
      "metadata": {
        "id": "I3W81pqSxpVd",
        "colab_type": "code",
        "colab": {
          "base_uri": "https://localhost:8080/",
          "height": 551
        },
        "outputId": "237f5be8-3d04-4e1d-cfc4-108461388f90"
      },
      "source": [
        "import matplotlib.pyplot as plt\n",
        "fig = plt.figure()\n",
        "for i in range(9):\n",
        "  plt.subplot(3,3,i+1)\n",
        "  plt.tight_layout()\n",
        "  plt.imshow(X_train[i], cmap='gray', interpolation='none')\n",
        "  plt.title(\"Digit: {}\".format(y_train[i]))\n",
        "  plt.xticks([])\n",
        "  plt.yticks([])\n",
        "fig"
      ],
      "execution_count": 20,
      "outputs": [
        {
          "output_type": "execute_result",
          "data": {
            "image/png": "[encoded data removed]",
            "text/plain": [
              "<Figure size 432x288 with 9 Axes>"
            ]
          },
          "metadata": {
            "tags": []
          },
          "execution_count": 20
        },
        {
          "output_type": "display_data",
          "data": {
            "image/png": "[encoded data removed]",
            "text/plain": [
              "<Figure size 432x288 with 9 Axes>"
            ]
          },
          "metadata": {
            "tags": []
          }
        }
      ]
    },
    {
      "cell_type": "code",
      "metadata": {
        "id": "1uiTfH0Xxw0R",
        "colab_type": "code",
        "colab": {
          "base_uri": "https://localhost:8080/",
          "height": 34
        },
        "outputId": "15a14784-e751-400a-c214-2b2df41a15ab"
      },
      "source": [
        "X_train.shape,y_train.shape,X_test.shape,y_test.shape"
      ],
      "execution_count": 21,
      "outputs": [
        {
          "output_type": "execute_result",
          "data": {
            "text/plain": [
              "((60000, 28, 28), (60000,), (10000, 28, 28), (10000,))"
            ]
          },
          "metadata": {
            "tags": []
          },
          "execution_count": 21
        }
      ]
    },
    {
      "cell_type": "code",
      "metadata": {
        "id": "tXYtv6DMxz9E",
        "colab_type": "code",
        "colab": {}
      },
      "source": [
        "img_rows=X_train.shape[1]\n",
        "img_cols=X_train.shape[2]"
      ],
      "execution_count": 0,
      "outputs": []
    },
    {
      "cell_type": "code",
      "metadata": {
        "id": "JjDEYwVp2fDd",
        "colab_type": "code",
        "colab": {
          "base_uri": "https://localhost:8080/",
          "height": 34
        },
        "outputId": "32b2267c-d6c1-4a9e-b535-fc7e8318a3de"
      },
      "source": [
        "#reshaping\n",
        "#this assumes our data format\n",
        "#For 3D data, \"channels_last\" assumes (conv_dim1, conv_dim2, conv_dim3, channels) while \n",
        "#\"channels_first\" assumes (channels, conv_dim1, conv_dim2, conv_dim3).\n",
        "from keras import backend as k\n",
        "if k.image_data_format() == 'channels_first':\n",
        "    X_train = X_train.reshape(X_train.shape[0], 1, img_rows, img_cols)\n",
        "    X_test = X_test.reshape(X_test.shape[0], 1, img_rows, img_cols)\n",
        "    input_shape = (1, img_rows, img_cols)\n",
        "else:\n",
        "    X_train = X_train.reshape(X_train.shape[0], img_rows, img_cols, 1)\n",
        "    X_test = X_test.reshape(X_test.shape[0], img_rows, img_cols, 1)\n",
        "    input_shape = (img_rows, img_cols, 1)\n",
        "#more reshaping\n",
        "X_train = X_train.astype('float32')\n",
        "X_test = X_test.astype('float32')\n",
        "X_train /= 255\n",
        "X_test /= 255\n",
        "print('X_train shape:', X_train.shape) #X_train shape: (60000, 28, 28, 1)"
      ],
      "execution_count": 23,
      "outputs": [
        {
          "output_type": "stream",
          "text": [
            "X_train shape: (60000, 28, 28, 1)\n"
          ],
          "name": "stdout"
        }
      ]
    },
    {
      "cell_type": "code",
      "metadata": {
        "id": "6t3_BRd_2hHy",
        "colab_type": "code",
        "colab": {}
      },
      "source": [
        "import keras\n",
        "#set number of categories\n",
        "num_category = 10\n",
        "# convert class vectors to binary class matrices\n",
        "y_train = keras.utils.to_categorical(y_train, num_category)\n",
        "y_test = keras.utils.to_categorical(y_test, num_category)"
      ],
      "execution_count": 0,
      "outputs": []
    },
    {
      "cell_type": "code",
      "metadata": {
        "id": "XheQmUrs2j3f",
        "colab_type": "code",
        "colab": {
          "base_uri": "https://localhost:8080/",
          "height": 34
        },
        "outputId": "2d71ec1c-cedb-4c64-cf71-19b752e9729a"
      },
      "source": [
        "X_test.shape,y_test.shape"
      ],
      "execution_count": 25,
      "outputs": [
        {
          "output_type": "execute_result",
          "data": {
            "text/plain": [
              "((10000, 28, 28, 1), (10000, 10))"
            ]
          },
          "metadata": {
            "tags": []
          },
          "execution_count": 25
        }
      ]
    },
    {
      "cell_type": "code",
      "metadata": {
        "id": "LF_8NIwt23AY",
        "colab_type": "code",
        "colab": {}
      },
      "source": [
        "from google.colab.patches import cv2_imshow\n",
        "import cv2"
      ],
      "execution_count": 0,
      "outputs": []
    },
    {
      "cell_type": "code",
      "metadata": {
        "id": "koROd3N428wo",
        "colab_type": "code",
        "colab": {
          "base_uri": "https://localhost:8080/",
          "height": 62
        },
        "outputId": "06d4da4c-db1e-43d6-a246-c8f9240f97b9"
      },
      "source": [
        "idx=1\n",
        "cv2_imshow(X_test[idx]*255)\n",
        "print(list(y_test[idx]).index(1))\n",
        "del(idx)"
      ],
      "execution_count": 28,
      "outputs": [
        {
          "output_type": "display_data",
          "data": {
            "image/png": "[encoded data removed]",
            "text/plain": [
              "<PIL.Image.Image image mode=RGB size=28x28 at 0x7F8662099400>"
            ]
          },
          "metadata": {
            "tags": []
          }
        },
        {
          "output_type": "stream",
          "text": [
            "2\n"
          ],
          "name": "stdout"
        }
      ]
    },
    {
      "cell_type": "code",
      "metadata": {
        "id": "EWnQioJG3Gbp",
        "colab_type": "code",
        "colab": {}
      },
      "source": [
        "from keras.models import Sequential\n",
        "from keras.layers import Conv2D, MaxPooling2D, Dropout, Flatten, Dense\n",
        "##model building\n",
        "model = Sequential()\n",
        "#convolutional layer with rectified linear unit activation\n",
        "model.add(Conv2D(32, kernel_size=(3, 3),\n",
        "                 activation='relu',\n",
        "                 input_shape=input_shape))\n",
        "#32 convolution filters used each of size 3x3\n",
        "#again\n",
        "model.add(Conv2D(64, (3, 3), activation='relu'))\n",
        "#64 convolution filters used each of size 3x3\n",
        "#choose the best features via pooling\n",
        "model.add(MaxPooling2D(pool_size=(2, 2)))\n",
        "#randomly turn neurons on and off to improve convergence\n",
        "model.add(Dropout(0.25))\n",
        "#flatten since too many dimensions, we only want a classification output\n",
        "model.add(Flatten())\n",
        "#fully connected to get all relevant data\n",
        "model.add(Dense(128, activation='relu'))\n",
        "#one more dropout for convergence' sake :) \n",
        "model.add(Dropout(0.5))\n",
        "#output a softmax to squash the matrix into output probabilities\n",
        "model.add(Dense(num_category, activation='softmax'))"
      ],
      "execution_count": 0,
      "outputs": []
    },
    {
      "cell_type": "code",
      "metadata": {
        "id": "GWsleKVw3J5d",
        "colab_type": "code",
        "colab": {
          "base_uri": "https://localhost:8080/",
          "height": 408
        },
        "outputId": "7625c74c-981b-4a47-e8bd-fc479c98b7d8"
      },
      "source": [
        "model.summary()"
      ],
      "execution_count": 31,
      "outputs": [
        {
          "output_type": "stream",
          "text": [
            "_________________________________________________________________\n",
            "Layer (type)                 Output Shape              Param #   \n",
            "=================================================================\n",
            "conv2d_1 (Conv2D)            (None, 26, 26, 32)        320       \n",
            "_________________________________________________________________\n",
            "conv2d_2 (Conv2D)            (None, 24, 24, 64)        18496     \n",
            "_________________________________________________________________\n",
            "max_pooling2d_1 (MaxPooling2 (None, 12, 12, 64)        0         \n",
            "_________________________________________________________________\n",
            "dropout_1 (Dropout)          (None, 12, 12, 64)        0         \n",
            "_________________________________________________________________\n",
            "flatten_1 (Flatten)          (None, 9216)              0         \n",
            "_________________________________________________________________\n",
            "dense_1 (Dense)              (None, 128)               1179776   \n",
            "_________________________________________________________________\n",
            "dropout_2 (Dropout)          (None, 128)               0         \n",
            "_________________________________________________________________\n",
            "dense_2 (Dense)              (None, 10)                1290      \n",
            "=================================================================\n",
            "Total params: 1,199,882\n",
            "Trainable params: 1,199,882\n",
            "Non-trainable params: 0\n",
            "_________________________________________________________________\n"
          ],
          "name": "stdout"
        }
      ]
    },
    {
      "cell_type": "code",
      "metadata": {
        "id": "8wjW73zL35e0",
        "colab_type": "code",
        "colab": {}
      },
      "source": [
        "#Adaptive learning rate (adaDelta) is a popular form of gradient descent rivaled only by adam and adagrad\n",
        "#categorical ce since we have multiple classes (10) \n",
        "model.compile(loss=keras.losses.categorical_crossentropy,\n",
        "              optimizer=keras.optimizers.Adadelta(),\n",
        "              metrics=['accuracy'])"
      ],
      "execution_count": 0,
      "outputs": []
    },
    {
      "cell_type": "code",
      "metadata": {
        "id": "T78D23oy37rO",
        "colab_type": "code",
        "colab": {
          "base_uri": "https://localhost:8080/",
          "height": 394
        },
        "outputId": "0505f333-80be-4e92-c566-bfa4ca53afbe"
      },
      "source": [
        "batch_size = 128\n",
        "num_epoch = 10\n",
        "#model training\n",
        "model_log = model.fit(X_train, y_train,\n",
        "          batch_size=batch_size,\n",
        "          epochs=num_epoch,\n",
        "          verbose=1,\n",
        "          validation_data=(X_test, y_test))"
      ],
      "execution_count": 33,
      "outputs": [
        {
          "output_type": "stream",
          "text": [
            "Train on 60000 samples, validate on 10000 samples\n",
            "Epoch 1/10\n",
            "60000/60000 [==============================] - 195s 3ms/step - loss: 0.2592 - acc: 0.9202 - val_loss: 0.0635 - val_acc: 0.9796\n",
            "Epoch 2/10\n",
            "60000/60000 [==============================] - 196s 3ms/step - loss: 0.0843 - acc: 0.9744 - val_loss: 0.0402 - val_acc: 0.9859\n",
            "Epoch 3/10\n",
            "60000/60000 [==============================] - 198s 3ms/step - loss: 0.0620 - acc: 0.9819 - val_loss: 0.0341 - val_acc: 0.9881\n",
            "Epoch 4/10\n",
            "60000/60000 [==============================] - 203s 3ms/step - loss: 0.0541 - acc: 0.9835 - val_loss: 0.0302 - val_acc: 0.9895\n",
            "Epoch 5/10\n",
            "60000/60000 [==============================] - 200s 3ms/step - loss: 0.0450 - acc: 0.9862 - val_loss: 0.0330 - val_acc: 0.9896\n",
            "Epoch 6/10\n",
            "60000/60000 [==============================] - 200s 3ms/step - loss: 0.0417 - acc: 0.9878 - val_loss: 0.0269 - val_acc: 0.9908\n",
            "Epoch 7/10\n",
            "60000/60000 [==============================] - 199s 3ms/step - loss: 0.0355 - acc: 0.9895 - val_loss: 0.0284 - val_acc: 0.9898\n",
            "Epoch 8/10\n",
            "60000/60000 [==============================] - 200s 3ms/step - loss: 0.0317 - acc: 0.9896 - val_loss: 0.0275 - val_acc: 0.9907\n",
            "Epoch 9/10\n",
            "60000/60000 [==============================] - 200s 3ms/step - loss: 0.0309 - acc: 0.9904 - val_loss: 0.0274 - val_acc: 0.9912\n",
            "Epoch 10/10\n",
            "60000/60000 [==============================] - 201s 3ms/step - loss: 0.0280 - acc: 0.9911 - val_loss: 0.0266 - val_acc: 0.9909\n"
          ],
          "name": "stdout"
        }
      ]
    },
    {
      "cell_type": "code",
      "metadata": {
        "id": "T7cU7Zh-39xw",
        "colab_type": "code",
        "colab": {
          "base_uri": "https://localhost:8080/",
          "height": 51
        },
        "outputId": "29041ddc-8620-48fc-a05e-61c1220f08d2"
      },
      "source": [
        "score = model.evaluate(X_test, y_test, verbose=0)\n",
        "print('Test loss:', score[0]) #Test loss: 0.0296396646054\n",
        "print('Test accuracy:', score[1]) #Test accuracy: 0.9904"
      ],
      "execution_count": 34,
      "outputs": [
        {
          "output_type": "stream",
          "text": [
            "Test loss: 0.026610340551812987\n",
            "Test accuracy: 0.9909\n"
          ],
          "name": "stdout"
        }
      ]
    },
    {
      "cell_type": "code",
      "metadata": {
        "id": "GwX7OOZK4FTO",
        "colab_type": "code",
        "colab": {
          "base_uri": "https://localhost:8080/",
          "height": 365
        },
        "outputId": "10aca984-ee9e-4a3c-cbe6-56090dfd3444"
      },
      "source": [
        "import os\n",
        "# plotting the metrics\n",
        "fig = plt.figure()\n",
        "plt.subplot(2,1,1)\n",
        "plt.plot(model_log.history['accuracy'])\n",
        "plt.plot(model_log.history['val_accuracy'])\n",
        "plt.title('model accuracy')\n",
        "plt.ylabel('accuracy')\n",
        "plt.xlabel('epoch')\n",
        "plt.legend(['train', 'test'], loc='lower right')\n",
        "plt.subplot(2,1,2)\n",
        "plt.plot(model_log.history['loss'])\n",
        "plt.plot(model_log.history['val_loss'])\n",
        "plt.title('model loss')\n",
        "plt.ylabel('loss')\n",
        "plt.xlabel('epoch')\n",
        "plt.legend(['train', 'test'], loc='upper right')\n",
        "plt.tight_layout()\n",
        "fig"
      ],
      "execution_count": 35,
      "outputs": [
        {
          "output_type": "error",
          "ename": "KeyError",
          "evalue": "ignored",
          "traceback": [
            "\u001b[0;31m---------------------------------------------------------------------------\u001b[0m",
            "\u001b[0;31mKeyError\u001b[0m                                  Traceback (most recent call last)",
            "\u001b[0;32m<ipython-input-35-050410915538>\u001b[0m in \u001b[0;36m<module>\u001b[0;34m()\u001b[0m\n\u001b[1;32m      3\u001b[0m \u001b[0mfig\u001b[0m \u001b[0;34m=\u001b[0m \u001b[0mplt\u001b[0m\u001b[0;34m.\u001b[0m\u001b[0mfigure\u001b[0m\u001b[0;34m(\u001b[0m\u001b[0;34m)\u001b[0m\u001b[0;34m\u001b[0m\u001b[0;34m\u001b[0m\u001b[0m\n\u001b[1;32m      4\u001b[0m \u001b[0mplt\u001b[0m\u001b[0;34m.\u001b[0m\u001b[0msubplot\u001b[0m\u001b[0;34m(\u001b[0m\u001b[0;36m2\u001b[0m\u001b[0;34m,\u001b[0m\u001b[0;36m1\u001b[0m\u001b[0;34m,\u001b[0m\u001b[0;36m1\u001b[0m\u001b[0;34m)\u001b[0m\u001b[0;34m\u001b[0m\u001b[0;34m\u001b[0m\u001b[0m\n\u001b[0;32m----> 5\u001b[0;31m \u001b[0mplt\u001b[0m\u001b[0;34m.\u001b[0m\u001b[0mplot\u001b[0m\u001b[0;34m(\u001b[0m\u001b[0mmodel_log\u001b[0m\u001b[0;34m.\u001b[0m\u001b[0mhistory\u001b[0m\u001b[0;34m[\u001b[0m\u001b[0;34m'accuracy'\u001b[0m\u001b[0;34m]\u001b[0m\u001b[0;34m)\u001b[0m\u001b[0;34m\u001b[0m\u001b[0;34m\u001b[0m\u001b[0m\n\u001b[0m\u001b[1;32m      6\u001b[0m \u001b[0mplt\u001b[0m\u001b[0;34m.\u001b[0m\u001b[0mplot\u001b[0m\u001b[0;34m(\u001b[0m\u001b[0mmodel_log\u001b[0m\u001b[0;34m.\u001b[0m\u001b[0mhistory\u001b[0m\u001b[0;34m[\u001b[0m\u001b[0;34m'val_accuracy'\u001b[0m\u001b[0;34m]\u001b[0m\u001b[0;34m)\u001b[0m\u001b[0;34m\u001b[0m\u001b[0;34m\u001b[0m\u001b[0m\n\u001b[1;32m      7\u001b[0m \u001b[0mplt\u001b[0m\u001b[0;34m.\u001b[0m\u001b[0mtitle\u001b[0m\u001b[0;34m(\u001b[0m\u001b[0;34m'model accuracy'\u001b[0m\u001b[0;34m)\u001b[0m\u001b[0;34m\u001b[0m\u001b[0;34m\u001b[0m\u001b[0m\n",
            "\u001b[0;31mKeyError\u001b[0m: 'accuracy'"
          ]
        },
        {
          "output_type": "display_data",
          "data": {
            "image/png": "[encoded data removed]",
            "text/plain": [
              "<Figure size 432x288 with 1 Axes>"
            ]
          },
          "metadata": {
            "tags": [],
            "needs_background": "light"
          }
        }
      ]
    },
    {
      "cell_type": "code",
      "metadata": {
        "id": "a06Gx-VN4IUa",
        "colab_type": "code",
        "colab": {
          "base_uri": "https://localhost:8080/",
          "height": 34
        },
        "outputId": "dabccd60-4510-4f83-b636-47f781e5cbf2"
      },
      "source": [
        "#Save the model\n",
        "# serialize model to JSON\n",
        "model_digit_json = model.to_json()\n",
        "with open(\"model_digit_1.6.json\", \"w\") as json_file:\n",
        "    json_file.write(model_digit_json)\n",
        "# serialize weights to HDF5\n",
        "model.save_weights(\"model_digit_1.6.h5\")\n",
        "print(\"Saved model to disk\")"
      ],
      "execution_count": 36,
      "outputs": [
        {
          "output_type": "stream",
          "text": [
            "Saved model to disk\n"
          ],
          "name": "stdout"
        }
      ]
    },
    {
      "cell_type": "markdown",
      "metadata": {
        "id": "iXmxDR5Q6BdV",
        "colab_type": "text"
      },
      "source": [
        "#Inference of the Model Trained above."
      ]
    },
    {
      "cell_type": "code",
      "metadata": {
        "id": "97lJl_4l4rxt",
        "colab_type": "code",
        "colab": {}
      },
      "source": [
        "import numpy as np\n",
        "X_test=np.zeros((10,28,28,1))\n",
        "for i in range(0,10):\n",
        "  X_test[i,:,:,0]=np.loadtxt(\"data/imgs_csv/input_data\"+str(i)+\".csv\", delimiter=\",\")\n",
        "y_test=np.loadtxt(\"data/ground_truth.csv\",delimiter=',')"
      ],
      "execution_count": 0,
      "outputs": []
    },
    {
      "cell_type": "code",
      "metadata": {
        "id": "hYOHR0om43J-",
        "colab_type": "code",
        "colab": {
          "base_uri": "https://localhost:8080/",
          "height": 34
        },
        "outputId": "6bf09287-8917-435e-b0b7-57ea30c787fb"
      },
      "source": [
        "idx=1\n",
        "cv2_imshow(X_test[idx]*255)\n",
        "print(list(y_test[idx]).index(1))\n",
        "del(idx)"
      ],
      "execution_count": 5,
      "outputs": [
        {
          "output_type": "stream",
          "text": [
            "2\n"
          ],
          "name": "stdout"
        }
      ]
    },
    {
      "cell_type": "code",
      "metadata": {
        "id": "-5VEG20t_vqz",
        "colab_type": "code",
        "colab": {
          "base_uri": "https://localhost:8080/",
          "height": 51
        },
        "outputId": "e87c55c6-4ba4-443e-eda5-4b845c1cd888"
      },
      "source": [
        "print(tf.__version__)\n",
        "print(keras.__version__)"
      ],
      "execution_count": 6,
      "outputs": [
        {
          "output_type": "stream",
          "text": [
            "1.6.0\n",
            "2.1.5\n"
          ],
          "name": "stdout"
        }
      ]
    },
    {
      "cell_type": "code",
      "metadata": {
        "id": "pHqIs29T43sG",
        "colab_type": "code",
        "colab": {
          "base_uri": "https://localhost:8080/",
          "height": 34
        },
        "outputId": "03ce008e-94fa-4e86-cbb5-7fb53b55d50e"
      },
      "source": [
        "#import tensorflow.compat.v1 as tf\n",
        "from keras.models import load_model,model_from_json\n",
        "from keras import backend as K\n",
        "#import tensorflow as tf\n",
        "#tf.compat.v1.disable_eager_execution()\n",
        "#sess1=K.get_session()\n",
        "# load json and create model\n",
        "json_file = open('model_digit_1.6.json', 'r')\n",
        "loaded_model_json = json_file.read()\n",
        "json_file.close()\n",
        "model = model_from_json(loaded_model_json)\n",
        "# load weights into new model\n",
        "model.load_weights(\"model_digit_1.6.h5\")\n",
        "#sess2=K.get_session()\n",
        "print(\"Loaded model from disk\")"
      ],
      "execution_count": 7,
      "outputs": [
        {
          "output_type": "stream",
          "text": [
            "Loaded model from disk\n"
          ],
          "name": "stdout"
        }
      ]
    },
    {
      "cell_type": "code",
      "metadata": {
        "id": "vbgx9PWw49g8",
        "colab_type": "code",
        "colab": {
          "base_uri": "https://localhost:8080/",
          "height": 408
        },
        "outputId": "389def4e-a8f3-4d6b-f90a-5e606a7d615e"
      },
      "source": [
        "model.summary()"
      ],
      "execution_count": 8,
      "outputs": [
        {
          "output_type": "stream",
          "text": [
            "_________________________________________________________________\n",
            "Layer (type)                 Output Shape              Param #   \n",
            "=================================================================\n",
            "conv2d_1 (Conv2D)            (None, 26, 26, 32)        320       \n",
            "_________________________________________________________________\n",
            "conv2d_2 (Conv2D)            (None, 24, 24, 64)        18496     \n",
            "_________________________________________________________________\n",
            "max_pooling2d_1 (MaxPooling2 (None, 12, 12, 64)        0         \n",
            "_________________________________________________________________\n",
            "dropout_1 (Dropout)          (None, 12, 12, 64)        0         \n",
            "_________________________________________________________________\n",
            "flatten_1 (Flatten)          (None, 9216)              0         \n",
            "_________________________________________________________________\n",
            "dense_1 (Dense)              (None, 128)               1179776   \n",
            "_________________________________________________________________\n",
            "dropout_2 (Dropout)          (None, 128)               0         \n",
            "_________________________________________________________________\n",
            "dense_2 (Dense)              (None, 10)                1290      \n",
            "=================================================================\n",
            "Total params: 1,199,882\n",
            "Trainable params: 1,199,882\n",
            "Non-trainable params: 0\n",
            "_________________________________________________________________\n"
          ],
          "name": "stdout"
        }
      ]
    },
    {
      "cell_type": "code",
      "metadata": {
        "id": "oCc5OQSI5CGi",
        "colab_type": "code",
        "colab": {}
      },
      "source": [
        "conv2d_1_weights=model.get_weights()[0].copy()\n",
        "conv2d_1_bias=model.get_weights()[1].copy()\n",
        "conv2d_2_weights=model.get_weights()[2].copy()\n",
        "conv2d_2_bias=model.get_weights()[3].copy()\n",
        "dense_1_weights=model.get_weights()[4].copy()\n",
        "dense_1_bias=model.get_weights()[5].copy()\n",
        "dense_2_weights=model.get_weights()[6].copy()\n",
        "dense_2_bias=model.get_weights()[7].copy()"
      ],
      "execution_count": 0,
      "outputs": []
    },
    {
      "cell_type": "code",
      "metadata": {
        "id": "s4NegAOZ5Edo",
        "colab_type": "code",
        "colab": {}
      },
      "source": [
        "with tf.Session() as sess:\n",
        "  input1 = tf.placeholder(tf.float32, [None, 28, 28, 1], name=\"x\")\n",
        "  \n",
        "  conv2d_1_weights_tf=tf.constant(conv2d_1_weights)\n",
        "  conv2d_1_bias_tf=tf.constant(conv2d_1_bias)\n",
        "  conv2d_2_weights_tf=tf.constant(conv2d_2_weights)\n",
        "  conv2d_2_bias_tf=tf.constant(conv2d_2_bias)\n",
        "  dense_1_weights_tf=tf.constant(dense_1_weights)\n",
        "  dense_1_bias_tf=tf.constant(dense_1_bias)\n",
        "  dense_2_weights_tf=tf.constant(dense_2_weights)\n",
        "  dense_2_bias_tf=tf.constant(dense_2_bias)\n",
        "\n",
        "  conv2d_1_out=tf.nn.relu(tf.nn.bias_add(tf.nn.conv2d(input1,conv2d_1_weights_tf,padding=\"VALID\", name=\"conv2d_layer1\",strides=[1,1,1,1]),conv2d_1_bias_tf), name=\"conv2d_1_out\")\n",
        "  conv2d_2_out=tf.nn.relu(tf.nn.bias_add(tf.nn.conv2d(conv2d_1_out,conv2d_2_weights_tf,padding=\"VALID\", name=\"conv2d_layer2\",strides=[1,1,1,1]),conv2d_2_bias_tf), name=\"conv2d_2_out\")\n",
        "  maxpool_1_out=tf.nn.max_pool(conv2d_2_out,ksize=[1,2,2,1],padding=\"VALID\",strides=[1,2,2,1])\n",
        "  #tf.print(tf.shape(maxpool_1_out))\n",
        "  flatten_1_out=tf.layers.flatten(maxpool_1_out)\n",
        "  #tf.print(tf.shape(flatten_1_out))\n",
        "  dense_1_out=tf.nn.relu(tf.nn.bias_add(tf.matmul(flatten_1_out,dense_1_weights_tf),dense_1_bias_tf),name=\"dense_1_out\")\n",
        "  dense_2_out=tf.nn.softmax(tf.nn.bias_add(tf.matmul(dense_1_out,dense_2_weights_tf),dense_2_bias_tf),name=\"dense_2_out\")\n",
        "  #label_out=(sess.run(dense_2_out,feed_dict={input1:X_test[0:1]}))\n",
        "  tf.train.write_graph(sess.graph_def,\n",
        "                      './graph_pb',\n",
        "                     'tf_1_graph.pb', as_text=False)"
      ],
      "execution_count": 0,
      "outputs": []
    },
    {
      "cell_type": "code",
      "metadata": {
        "id": "uZbzJYq05Gji",
        "colab_type": "code",
        "colab": {}
      },
      "source": [
        "def load_pb(path_to_pb):\n",
        "    with tf.gfile.GFile(path_to_pb, \"rb\") as f:\n",
        "        graph_def = tf.GraphDef()\n",
        "        graph_def.ParseFromString(f.read())\n",
        "    with tf.Graph().as_default() as graph:\n",
        "        tf.import_graph_def(graph_def, name='')\n",
        "        return graph"
      ],
      "execution_count": 0,
      "outputs": []
    },
    {
      "cell_type": "code",
      "metadata": {
        "id": "WxeiiczD5IzG",
        "colab_type": "code",
        "colab": {}
      },
      "source": [
        "graph=load_pb('graph_pb/tf_1_graph.pb')"
      ],
      "execution_count": 0,
      "outputs": []
    },
    {
      "cell_type": "code",
      "metadata": {
        "id": "ANnH2Ssc5Mly",
        "colab_type": "code",
        "colab": {}
      },
      "source": [
        "inputs = graph.get_tensor_by_name('x:0')\n",
        "output=graph.get_tensor_by_name('dense_2_out:0')"
      ],
      "execution_count": 0,
      "outputs": []
    },
    {
      "cell_type": "code",
      "metadata": {
        "id": "JfRzL7G-5NYl",
        "colab_type": "code",
        "colab": {}
      },
      "source": [
        "with tf.Session(graph=graph) as sess:\n",
        "  \n",
        "  #sess.run(tf.global_variables_initializer())\n",
        "  label_out=sess.run(\"dense_2_out:0\", feed_dict={\"x:0\":X_test[1:5]})"
      ],
      "execution_count": 0,
      "outputs": []
    },
    {
      "cell_type": "markdown",
      "metadata": {
        "id": "V8_c26wU5yUb",
        "colab_type": "text"
      },
      "source": [
        ""
      ]
    },
    {
      "cell_type": "code",
      "metadata": {
        "id": "eqoWDVXD5VaX",
        "colab_type": "code",
        "colab": {
          "base_uri": "https://localhost:8080/",
          "height": 289
        },
        "outputId": "5c33ca9e-03c3-4cf1-deca-8dc23e12885b"
      },
      "source": [
        "label_out,y_test[1:5]"
      ],
      "execution_count": 16,
      "outputs": [
        {
          "output_type": "execute_result",
          "data": {
            "text/plain": [
              "(array([[1.78634025e-07, 1.02056601e-05, 9.99989510e-01, 3.73798242e-10,\n",
              "         1.36962192e-10, 1.89493157e-10, 9.07498148e-08, 7.18134496e-10,\n",
              "         1.97710803e-09, 4.70260809e-12],\n",
              "        [1.71843084e-07, 9.99991298e-01, 6.82346524e-07, 1.89406233e-08,\n",
              "         5.03255296e-06, 4.37334393e-07, 4.01547993e-07, 1.46652565e-06,\n",
              "         4.40517766e-07, 2.46858036e-08],\n",
              "        [9.99996662e-01, 4.10658636e-08, 1.04139829e-07, 1.57771964e-08,\n",
              "         6.88726365e-09, 2.85207213e-09, 2.75323782e-06, 2.18176041e-07,\n",
              "         1.10599245e-07, 1.29808214e-07],\n",
              "        [4.90862351e-10, 6.47371667e-09, 4.25922325e-10, 4.07954712e-11,\n",
              "         9.99991417e-01, 1.00478370e-09, 4.40365744e-09, 4.07812761e-09,\n",
              "         7.45364326e-10, 8.60614182e-06]], dtype=float32),\n",
              " array([[0., 0., 1., 0., 0., 0., 0., 0., 0., 0.],\n",
              "        [0., 1., 0., 0., 0., 0., 0., 0., 0., 0.],\n",
              "        [1., 0., 0., 0., 0., 0., 0., 0., 0., 0.],\n",
              "        [0., 0., 0., 0., 1., 0., 0., 0., 0., 0.]]))"
            ]
          },
          "metadata": {
            "tags": []
          },
          "execution_count": 16
        }
      ]
    },
    {
      "cell_type": "code",
      "metadata": {
        "id": "w4LcGukE5YZG",
        "colab_type": "code",
        "colab": {}
      },
      "source": [
        ""
      ],
      "execution_count": 0,
      "outputs": []
    }
  ]
}